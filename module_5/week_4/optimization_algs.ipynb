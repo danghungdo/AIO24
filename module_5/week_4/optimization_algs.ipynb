{
 "cells": [
  {
   "cell_type": "markdown",
   "id": "7573fa87",
   "metadata": {},
   "source": [
    "### Problem\n",
    "\n",
    "$$f(w_1, w_2) = 0.1w_1^2 + 2w_2^2$$\n"
   ]
  },
  {
   "cell_type": "code",
   "execution_count": 1,
   "id": "97590bd8",
   "metadata": {},
   "outputs": [],
   "source": [
    "import numpy as np"
   ]
  },
  {
   "cell_type": "code",
   "execution_count": null,
   "id": "e7452b96",
   "metadata": {},
   "outputs": [],
   "source": [
    "# calculate the gradient of each weight\n",
    "def df_w(w):\n",
    "    dW = np.array((0.2 * w[0], 4 * w[1]))\n",
    "    return dW"
   ]
  },
  {
   "cell_type": "markdown",
   "id": "08f5439c",
   "metadata": {},
   "source": [
    "#### Gradient Descent\n",
    "\n",
    "Gradient Descent is an iterative optimization algorithm used to find the minimum of a function. In machine learning, it's commonly used to minimize the cost/loss function and find the optimal parameters for a model.\n",
    "\n",
    "1. Start with initial parameters: Begin with random or zero initialization of model parameters.\n",
    "\n",
    "2. Calculate the gradient: Compute the gradient (partial derivatives) of the cost function with respect to each parameter.\n",
    "\n",
    "3. Update parameters: Move in the opposite direction of the gradient (since we want to minimize the function).\n",
    "\n",
    "4. Repeat: Continue this process until convergence (minimal change in parameters or cost function).\n",
    "\n",
    "$$θ = θ - α * ∇J(θ)$$\n",
    "\n",
    "Stochastic Gradient Descent (SGD) is a variant of gradient descent where the model parameters are updated using only a single training example at a time. This can lead to faster convergence and is often used in large datasets.\n"
   ]
  },
  {
   "cell_type": "code",
   "execution_count": null,
   "id": "f015f56b",
   "metadata": {},
   "outputs": [],
   "source": [
    "def sgd(W, dW, lr):\n",
    "    W = W - lr * dW\n",
    "    return W\n",
    "\n",
    "\n",
    "def train_p1(optimizer, lr, epochs):\n",
    "    # initial point\n",
    "    W = np.array([-5, -2], dtype=np.float32)\n",
    "    results = [W]\n",
    "    for e in range(epochs):\n",
    "        dW = df_w(W)\n",
    "        W = optimizer(W, dW, lr)\n",
    "        results.append(W)\n",
    "    return results"
   ]
  },
  {
   "cell_type": "code",
   "execution_count": 5,
   "id": "f655db93",
   "metadata": {},
   "outputs": [
    {
     "data": {
      "text/plain": [
       "[array([-5., -2.], dtype=float32),\n",
       " array([-4.6,  1.2]),\n",
       " array([-4.232, -0.72 ]),\n",
       " array([-3.89344,  0.432  ]),\n",
       " array([-3.5819648, -0.2592   ]),\n",
       " array([-3.29540762,  0.15552   ]),\n",
       " array([-3.03177501, -0.093312  ]),\n",
       " array([-2.78923301,  0.0559872 ]),\n",
       " array([-2.56609437, -0.03359232]),\n",
       " array([-2.36080682,  0.02015539]),\n",
       " array([-2.17194227, -0.01209324]),\n",
       " array([-1.99818689,  0.00725594]),\n",
       " array([-1.83833194, -0.00435356]),\n",
       " array([-1.69126538,  0.00261214]),\n",
       " array([-1.55596415, -0.00156728]),\n",
       " array([-1.43148702e+00,  9.40369969e-04]),\n",
       " array([-1.31696806e+00, -5.64221981e-04]),\n",
       " array([-1.21161061e+00,  3.38533189e-04]),\n",
       " array([-1.11468176e+00, -2.03119913e-04]),\n",
       " array([-1.02550722e+00,  1.21871948e-04]),\n",
       " array([-9.43466646e-01, -7.31231688e-05]),\n",
       " array([-8.67989314e-01,  4.38739013e-05]),\n",
       " array([-7.98550169e-01, -2.63243408e-05]),\n",
       " array([-7.34666155e-01,  1.57946045e-05]),\n",
       " array([-6.75892863e-01, -9.47676268e-06]),\n",
       " array([-6.21821434e-01,  5.68605761e-06]),\n",
       " array([-5.72075719e-01, -3.41163456e-06]),\n",
       " array([-5.26309662e-01,  2.04698074e-06]),\n",
       " array([-4.84204889e-01, -1.22818844e-06]),\n",
       " array([-4.45468498e-01,  7.36913066e-07]),\n",
       " array([-4.09831018e-01, -4.42147839e-07])]"
      ]
     },
     "execution_count": 5,
     "metadata": {},
     "output_type": "execute_result"
    }
   ],
   "source": [
    "train_p1(sgd, 0.4, 30)"
   ]
  },
  {
   "cell_type": "markdown",
   "id": "49c07e4c",
   "metadata": {},
   "source": [
    "### RMSProp\n",
    "\n",
    "RMSProp (Root Mean Square Propagation) is an adaptive learning rate optimization algorithm designed to improve the performance of gradient descent. It adjusts the learning rate for each parameter based on the average of recent gradients, allowing for faster convergence and better handling of non-stationary objectives.\n",
    "\n",
    "1. Initialize parameters: Start with random or zero initialization of model parameters.\n",
    "\n",
    "2. Initialize moving average: Create a moving average of the squared gradients for each parameter.\n",
    "\n",
    "3. Compute gradients: Calculate the gradients of the cost function with respect to each parameter.\n",
    "\n",
    "4. Update moving average: Update the moving average of the squared gradients using a weighted average of the current gradient and the previous moving average.\n",
    "\n",
    "5. Update parameters: Update each parameter by subtracting the product of the learning rate, the gradient, and the inverse square root of the moving average of the squared gradients.\n",
    "\n",
    "6. Repeat: Continue this process until convergence (minimal change in parameters or cost function).\n"
   ]
  },
  {
   "cell_type": "code",
   "execution_count": null,
   "id": "c3987ba8",
   "metadata": {},
   "outputs": [],
   "source": [
    "def RMSProp(W, dW, lr, S, gamma):\n",
    "    epsilon = 1e-6\n",
    "    S = gamma * S + (1 - gamma) * dW**2\n",
    "    adaptive_lr = lr / (np.sqrt(S) + epsilon)\n",
    "    W = W - adaptive_lr * dW\n",
    "    return W, S\n",
    "\n",
    "\n",
    "def train_p2(optimizer, lr, epochs):\n",
    "    # initial point\n",
    "    W = np.array([-5, -2], dtype=np.float32)\n",
    "    results = [W]\n",
    "    S = np.zeros_like(W)\n",
    "    for e in range(epochs):\n",
    "        dW = df_w(W)\n",
    "        W, S = optimizer(W, dW, lr, S, gamma=0.9)\n",
    "        results.append(W)\n",
    "    return results"
   ]
  },
  {
   "cell_type": "code",
   "execution_count": 8,
   "id": "ed2688e7",
   "metadata": {},
   "outputs": [
    {
     "data": {
      "text/plain": [
       "[array([-5., -2.], dtype=float32),\n",
       " array([-4.0513197 , -1.05131708]),\n",
       " array([-3.43519553, -0.59152376]),\n",
       " array([-2.95893489, -0.3294397 ]),\n",
       " array([-2.56546089, -0.17756504]),\n",
       " array([-2.22920358, -0.09163272]),\n",
       " array([-1.93626564, -0.04494508]),\n",
       " array([-1.67817504, -0.02081429]),\n",
       " array([-1.44934809, -0.00903562]),\n",
       " array([-1.24588029, -0.00364592]),\n",
       " array([-1.06490135, -0.00135352]),\n",
       " array([-9.04200650e-01, -4.56447225e-04]),\n",
       " array([-7.61994932e-01, -1.37563947e-04]),\n",
       " array([-6.36776983e-01, -3.62604278e-05]),\n",
       " array([-5.27213771e-01, -8.11346375e-06]),\n",
       " array([-4.32077091e-01, -1.47475425e-06]),\n",
       " array([-3.50197152e-01, -2.02787524e-07]),\n",
       " array([-2.80433359e-01, -1.84235524e-08]),\n",
       " array([-2.21658617e-01, -7.67771777e-10]),\n",
       " array([-1.72754375e-01,  7.80432778e-12]),\n",
       " array([-1.32614084e-01, -5.05777072e-13]),\n",
       " array([-1.00152823e-01,  6.19098174e-14]),\n",
       " array([-7.43209130e-02, -1.13368674e-14]),\n",
       " array([-5.41193712e-02,  2.80153177e-15]),\n",
       " array([-3.86152607e-02, -8.81296300e-16]),\n",
       " array([-2.69552510e-02,  3.39903035e-16]),\n",
       " array([-1.83761024e-02, -1.56573095e-16]),\n",
       " array([-1.22112361e-02,  8.44946934e-17]),\n",
       " array([-7.89302368e-03, -5.26345869e-17]),\n",
       " array([-4.95087715e-03,  3.74085662e-17]),\n",
       " array([-3.00560338e-03, -3.00487798e-17])]"
      ]
     },
     "execution_count": 8,
     "metadata": {},
     "output_type": "execute_result"
    }
   ],
   "source": [
    "train_p2(RMSProp, 0.3, 30)"
   ]
  },
  {
   "cell_type": "markdown",
   "id": "23e966eb",
   "metadata": {},
   "source": [
    "### Adam\n",
    "\n",
    "Adam (Adaptive Moment Estimation) is an advanced optimization algorithm that combines the benefits of both RMSProp and momentum. It adapts the learning rate for each parameter based on the first and second moments of the gradients, allowing for faster convergence and better handling of sparse gradients.\n",
    "\n",
    "1. Initialize parameters: Start with random or zero initialization of model parameters.\n",
    "2. Initialize first and second moment estimates: Initialize two arrays, m and v, to store the first and second moment estimates of the gradients, respectively. Set both arrays to zero.\n",
    "3. Compute gradients: Calculate the gradients of the cost function with respect to each parameter.\n",
    "4. Update first moment estimate: Update the first moment estimate (m) using a weighted average of the current gradient and the previous first moment estimate.\n",
    "5. Update second moment estimate: Update the second moment estimate (v) using a weighted average of the squared gradients and the previous second moment estimate.\n",
    "6. Bias correction: Apply bias correction to the first and second moment estimates to account for their initialization at zero.\n",
    "7. Update parameters: Update the parameters using the adapted learning rate, which is calculated based on the first and second moment estimates.\n",
    "8. Repeat: Continue this process until convergence (minimal change in parameters or cost function).\n"
   ]
  },
  {
   "cell_type": "code",
   "execution_count": null,
   "id": "b467fd38",
   "metadata": {},
   "outputs": [],
   "source": [
    "def Adam(W, dW, lr, V, S, beta1, beta2, t):\n",
    "    epsilon = 1e-6\n",
    "    V = beta1 * V + (1 - beta1) * dW\n",
    "    S = beta2 * S + (1 - beta2) * dW**2\n",
    "    V_corrected = V / (1 - beta1**t)\n",
    "    S_corrected = S / (1 - beta2**t)\n",
    "    adaptive_lr = lr / (np.sqrt(S_corrected) + epsilon)\n",
    "    W = W - adaptive_lr * V_corrected\n",
    "    return W, V, S\n",
    "\n",
    "\n",
    "def train_p3(optimizer, lr, epochs):\n",
    "    # initial point\n",
    "    W = np.array([-5, -2], dtype=np.float32)\n",
    "    results = [W]\n",
    "    V = np.zeros_like(W)\n",
    "    S = np.zeros_like(W)\n",
    "    for e in range(epochs):\n",
    "        dW = df_w(W)\n",
    "        W, V, S = optimizer(W, dW, lr, V, S, beta1=0.9, beta2=0.999, t=e + 1)\n",
    "        results.append(W)\n",
    "    return results"
   ]
  },
  {
   "cell_type": "code",
   "execution_count": 10,
   "id": "06131dd5",
   "metadata": {},
   "outputs": [
    {
     "data": {
      "text/plain": [
       "[array([-5., -2.], dtype=float32),\n",
       " array([-4.8000002 , -1.80000002]),\n",
       " array([-4.60025478, -1.60082451]),\n",
       " array([-4.40094848, -1.40317262]),\n",
       " array([-4.20227764, -1.20787822]),\n",
       " array([-4.00445033, -1.01592745]),\n",
       " array([-3.80768638, -0.82847307]),\n",
       " array([-3.61221732, -0.64684159]),\n",
       " array([-3.41828623, -0.47252765]),\n",
       " array([-3.22614739, -0.30716934]),\n",
       " array([-3.03606592, -0.15249855]),\n",
       " array([-2.84831706, -0.01026326]),\n",
       " array([-2.66318543,  0.11787552]),\n",
       " array([-2.480964  ,  0.23046161]),\n",
       " array([-2.30195279,  0.3263587 ]),\n",
       " array([-2.12645742,  0.40484195]),\n",
       " array([-1.95478732,  0.46564961]),\n",
       " array([-1.7872537 ,  0.50898799]),\n",
       " array([-1.62416726,  0.53549442]),\n",
       " array([-1.46583566,  0.54617144]),\n",
       " array([-1.31256067,  0.54230812]),\n",
       " array([-1.16463526,  0.52540206]),\n",
       " array([-1.02234036,  0.4970906 ]),\n",
       " array([-0.88594163,  0.4590951 ]),\n",
       " array([-0.75568617,  0.41317781]),\n",
       " array([-0.63179919,  0.3611089 ]),\n",
       " array([-0.51448089,  0.30464048]),\n",
       " array([-0.40390346,  0.24548409]),\n",
       " array([-0.30020842,  0.18528918]),\n",
       " array([-0.20350426,  0.12562074]),\n",
       " array([-0.11386457,  0.06793529])]"
      ]
     },
     "execution_count": 10,
     "metadata": {},
     "output_type": "execute_result"
    }
   ],
   "source": [
    "train_p3(Adam, 0.2, 30)"
   ]
  },
  {
   "cell_type": "markdown",
   "id": "33312ba2",
   "metadata": {},
   "source": [
    "### Vanishing Gradient Problem\n",
    "\n",
    "The vanishing gradient problem occurs when the gradients of the loss function become very small during backpropagation, leading to slow or stalled learning. This is particularly common in deep neural networks with many layers, where the gradients can diminish exponentially as they propagate backward through the network. Additionally, it can occur when using activation functions like the sigmoid or tanh, which have gradients that approach zero for large or small input values.\n"
   ]
  },
  {
   "cell_type": "code",
   "execution_count": null,
   "id": "4d29e4e0",
   "metadata": {},
   "outputs": [
    {
     "data": {
      "text/plain": [
       "<torch._C.Generator at 0x1dc58f7d5b0>"
      ]
     },
     "execution_count": 17,
     "metadata": {},
     "output_type": "execute_result"
    }
   ],
   "source": [
    "import torch\n",
    "from torch import nn\n",
    "import torch.optim as optim\n",
    "from torch.utils.data import DataLoader\n",
    "import matplotlib.pyplot as plt\n",
    "from torchvision.datasets import FashionMNIST\n",
    "import torchvision.transforms as transforms\n",
    "\n",
    "device = torch.device(\"cuda:0\" if torch.cuda.is_available() else \"cpu\")\n",
    "torch.manual_seed(42)"
   ]
  },
  {
   "cell_type": "code",
   "execution_count": 12,
   "id": "4ebbbf55",
   "metadata": {},
   "outputs": [],
   "source": [
    "batch_size = 512\n",
    "num_epochs = 300\n",
    "lr = 0.01"
   ]
  },
  {
   "cell_type": "code",
   "execution_count": null,
   "id": "a2dd36d1",
   "metadata": {},
   "outputs": [
    {
     "name": "stdout",
     "output_type": "stream",
     "text": [
      "Downloading http://fashion-mnist.s3-website.eu-central-1.amazonaws.com/train-images-idx3-ubyte.gz\n",
      "Downloading http://fashion-mnist.s3-website.eu-central-1.amazonaws.com/train-images-idx3-ubyte.gz to ./data\\FashionMNIST\\raw\\train-images-idx3-ubyte.gz\n"
     ]
    },
    {
     "name": "stderr",
     "output_type": "stream",
     "text": [
      "100%|██████████| 26421880/26421880 [00:02<00:00, 12829468.39it/s]\n"
     ]
    },
    {
     "name": "stdout",
     "output_type": "stream",
     "text": [
      "Extracting ./data\\FashionMNIST\\raw\\train-images-idx3-ubyte.gz to ./data\\FashionMNIST\\raw\n",
      "\n",
      "Downloading http://fashion-mnist.s3-website.eu-central-1.amazonaws.com/train-labels-idx1-ubyte.gz\n",
      "Downloading http://fashion-mnist.s3-website.eu-central-1.amazonaws.com/train-labels-idx1-ubyte.gz to ./data\\FashionMNIST\\raw\\train-labels-idx1-ubyte.gz\n"
     ]
    },
    {
     "name": "stderr",
     "output_type": "stream",
     "text": [
      "100%|██████████| 29515/29515 [00:00<00:00, 1304009.97it/s]"
     ]
    },
    {
     "name": "stdout",
     "output_type": "stream",
     "text": [
      "Extracting ./data\\FashionMNIST\\raw\\train-labels-idx1-ubyte.gz to ./data\\FashionMNIST\\raw\n"
     ]
    },
    {
     "name": "stderr",
     "output_type": "stream",
     "text": [
      "\n"
     ]
    },
    {
     "name": "stdout",
     "output_type": "stream",
     "text": [
      "\n",
      "Downloading http://fashion-mnist.s3-website.eu-central-1.amazonaws.com/t10k-images-idx3-ubyte.gz\n",
      "Downloading http://fashion-mnist.s3-website.eu-central-1.amazonaws.com/t10k-images-idx3-ubyte.gz to ./data\\FashionMNIST\\raw\\t10k-images-idx3-ubyte.gz\n"
     ]
    },
    {
     "name": "stderr",
     "output_type": "stream",
     "text": [
      "100%|██████████| 4422102/4422102 [00:00<00:00, 11139750.55it/s]\n"
     ]
    },
    {
     "name": "stdout",
     "output_type": "stream",
     "text": [
      "Extracting ./data\\FashionMNIST\\raw\\t10k-images-idx3-ubyte.gz to ./data\\FashionMNIST\\raw\n",
      "\n",
      "Downloading http://fashion-mnist.s3-website.eu-central-1.amazonaws.com/t10k-labels-idx1-ubyte.gz\n",
      "Downloading http://fashion-mnist.s3-website.eu-central-1.amazonaws.com/t10k-labels-idx1-ubyte.gz to ./data\\FashionMNIST\\raw\\t10k-labels-idx1-ubyte.gz\n"
     ]
    },
    {
     "name": "stderr",
     "output_type": "stream",
     "text": [
      "100%|██████████| 5148/5148 [00:00<00:00, 5154518.26it/s]"
     ]
    },
    {
     "name": "stdout",
     "output_type": "stream",
     "text": [
      "Extracting ./data\\FashionMNIST\\raw\\t10k-labels-idx1-ubyte.gz to ./data\\FashionMNIST\\raw\n",
      "\n"
     ]
    },
    {
     "name": "stderr",
     "output_type": "stream",
     "text": [
      "\n"
     ]
    }
   ],
   "source": [
    "train_dataset = FashionMNIST(\n",
    "    root=\"./data\", train=True, download=True, transform=transforms.ToTensor()\n",
    ")\n",
    "train_loader = DataLoader(train_dataset, batch_size, shuffle=True)\n",
    "test_dataset = FashionMNIST(\n",
    "    root=\"./data\", train=False, download=True, transform=transforms.ToTensor()\n",
    ")\n",
    "test_loader = DataLoader(test_dataset, batch_size)"
   ]
  },
  {
   "cell_type": "markdown",
   "id": "f339bf63",
   "metadata": {},
   "source": [
    "#### Modeling\n"
   ]
  },
  {
   "cell_type": "code",
   "execution_count": 14,
   "id": "bc763528",
   "metadata": {},
   "outputs": [],
   "source": [
    "class MLP(nn.Module):\n",
    "    def __init__(self, input_dims, hidden_dims, output_dims):\n",
    "        super(MLP, self).__init__()\n",
    "        self.layer1 = nn.Linear(input_dims, hidden_dims)\n",
    "        self.layer2 = nn.Linear(hidden_dims, hidden_dims)\n",
    "        self.layer3 = nn.Linear(hidden_dims, hidden_dims)\n",
    "        self.layer4 = nn.Linear(hidden_dims, hidden_dims)\n",
    "        self.layer5 = nn.Linear(hidden_dims, hidden_dims)\n",
    "        self.output = nn.Linear(hidden_dims, output_dims)\n",
    "        self.sigmoid = nn.Sigmoid()\n",
    "\n",
    "    def forward(self, x):\n",
    "        x = nn.Flatten()(x)\n",
    "        x = self.layer1(x)\n",
    "        x = self.sigmoid(x)\n",
    "        x = self.layer2(x)\n",
    "        x = self.sigmoid(x)\n",
    "        x = self.layer3(x)\n",
    "        x = self.sigmoid(x)\n",
    "        x = self.layer4(x)\n",
    "        x = self.sigmoid(x)\n",
    "        x = self.layer5(x)\n",
    "        x = self.sigmoid(x)\n",
    "        out = self.output(x)\n",
    "        return out"
   ]
  },
  {
   "cell_type": "code",
   "execution_count": 15,
   "id": "4c325ba3",
   "metadata": {},
   "outputs": [
    {
     "name": "stdout",
     "output_type": "stream",
     "text": [
      "MLP(\n",
      "  (layer1): Linear(in_features=784, out_features=128, bias=True)\n",
      "  (layer2): Linear(in_features=128, out_features=128, bias=True)\n",
      "  (layer3): Linear(in_features=128, out_features=128, bias=True)\n",
      "  (layer4): Linear(in_features=128, out_features=128, bias=True)\n",
      "  (layer5): Linear(in_features=128, out_features=128, bias=True)\n",
      "  (output): Linear(in_features=128, out_features=10, bias=True)\n",
      "  (sigmoid): Sigmoid()\n",
      ")\n"
     ]
    }
   ],
   "source": [
    "model = MLP(input_dims=784, hidden_dims=128, output_dims=10).to(device)\n",
    "criterion = nn.CrossEntropyLoss()\n",
    "optimizer = optim.SGD(model.parameters(), lr=lr)\n",
    "print(model)"
   ]
  },
  {
   "cell_type": "markdown",
   "id": "4717de86",
   "metadata": {},
   "source": [
    "#### Training using SGD\n"
   ]
  },
  {
   "cell_type": "code",
   "execution_count": null,
   "id": "0f3463d9",
   "metadata": {},
   "outputs": [
    {
     "name": "stdout",
     "output_type": "stream",
     "text": [
      "Epoch 1/300, Train_Loss: 2.3096, Train_Acc: 0.0999, Validation Loss: 2.3026, Val_Acc: 0.1000\n",
      "Epoch 2/300, Train_Loss: 2.3028, Train_Acc: 0.0981, Validation Loss: 2.3026, Val_Acc: 0.1000\n",
      "Epoch 3/300, Train_Loss: 2.3028, Train_Acc: 0.0995, Validation Loss: 2.3027, Val_Acc: 0.1000\n",
      "Epoch 4/300, Train_Loss: 2.3028, Train_Acc: 0.0978, Validation Loss: 2.3026, Val_Acc: 0.1000\n",
      "Epoch 5/300, Train_Loss: 2.3028, Train_Acc: 0.0994, Validation Loss: 2.3027, Val_Acc: 0.1000\n",
      "Epoch 6/300, Train_Loss: 2.3028, Train_Acc: 0.0990, Validation Loss: 2.3026, Val_Acc: 0.1000\n",
      "Epoch 7/300, Train_Loss: 2.3028, Train_Acc: 0.0980, Validation Loss: 2.3026, Val_Acc: 0.1000\n",
      "Epoch 8/300, Train_Loss: 2.3028, Train_Acc: 0.0989, Validation Loss: 2.3027, Val_Acc: 0.1000\n",
      "Epoch 9/300, Train_Loss: 2.3027, Train_Acc: 0.1003, Validation Loss: 2.3027, Val_Acc: 0.1000\n",
      "Epoch 10/300, Train_Loss: 2.3028, Train_Acc: 0.0997, Validation Loss: 2.3027, Val_Acc: 0.1000\n",
      "Epoch 11/300, Train_Loss: 2.3028, Train_Acc: 0.0979, Validation Loss: 2.3027, Val_Acc: 0.1000\n",
      "Epoch 12/300, Train_Loss: 2.3027, Train_Acc: 0.0983, Validation Loss: 2.3030, Val_Acc: 0.1000\n",
      "Epoch 13/300, Train_Loss: 2.3028, Train_Acc: 0.0984, Validation Loss: 2.3028, Val_Acc: 0.1000\n",
      "Epoch 14/300, Train_Loss: 2.3028, Train_Acc: 0.0995, Validation Loss: 2.3027, Val_Acc: 0.1000\n",
      "Epoch 15/300, Train_Loss: 2.3028, Train_Acc: 0.0985, Validation Loss: 2.3026, Val_Acc: 0.1000\n",
      "Epoch 16/300, Train_Loss: 2.3028, Train_Acc: 0.0988, Validation Loss: 2.3027, Val_Acc: 0.1000\n",
      "Epoch 17/300, Train_Loss: 2.3028, Train_Acc: 0.0982, Validation Loss: 2.3027, Val_Acc: 0.1000\n",
      "Epoch 18/300, Train_Loss: 2.3028, Train_Acc: 0.0980, Validation Loss: 2.3026, Val_Acc: 0.1000\n",
      "Epoch 19/300, Train_Loss: 2.3028, Train_Acc: 0.0983, Validation Loss: 2.3027, Val_Acc: 0.1000\n",
      "Epoch 20/300, Train_Loss: 2.3028, Train_Acc: 0.0981, Validation Loss: 2.3026, Val_Acc: 0.1000\n",
      "Epoch 21/300, Train_Loss: 2.3028, Train_Acc: 0.0984, Validation Loss: 2.3026, Val_Acc: 0.1000\n",
      "Epoch 22/300, Train_Loss: 2.3028, Train_Acc: 0.0986, Validation Loss: 2.3027, Val_Acc: 0.1000\n",
      "Epoch 23/300, Train_Loss: 2.3028, Train_Acc: 0.1010, Validation Loss: 2.3027, Val_Acc: 0.1000\n",
      "Epoch 24/300, Train_Loss: 2.3028, Train_Acc: 0.0967, Validation Loss: 2.3027, Val_Acc: 0.1000\n",
      "Epoch 25/300, Train_Loss: 2.3028, Train_Acc: 0.0980, Validation Loss: 2.3026, Val_Acc: 0.1000\n",
      "Epoch 26/300, Train_Loss: 2.3028, Train_Acc: 0.0982, Validation Loss: 2.3026, Val_Acc: 0.1000\n",
      "Epoch 27/300, Train_Loss: 2.3028, Train_Acc: 0.0972, Validation Loss: 2.3027, Val_Acc: 0.1000\n",
      "Epoch 28/300, Train_Loss: 2.3028, Train_Acc: 0.0996, Validation Loss: 2.3026, Val_Acc: 0.1000\n",
      "Epoch 29/300, Train_Loss: 2.3028, Train_Acc: 0.0991, Validation Loss: 2.3026, Val_Acc: 0.1000\n",
      "Epoch 30/300, Train_Loss: 2.3028, Train_Acc: 0.0971, Validation Loss: 2.3026, Val_Acc: 0.1000\n",
      "Epoch 31/300, Train_Loss: 2.3028, Train_Acc: 0.0979, Validation Loss: 2.3028, Val_Acc: 0.1000\n",
      "Epoch 32/300, Train_Loss: 2.3028, Train_Acc: 0.0989, Validation Loss: 2.3026, Val_Acc: 0.1000\n",
      "Epoch 33/300, Train_Loss: 2.3028, Train_Acc: 0.0986, Validation Loss: 2.3027, Val_Acc: 0.1000\n",
      "Epoch 34/300, Train_Loss: 2.3028, Train_Acc: 0.0998, Validation Loss: 2.3027, Val_Acc: 0.1000\n",
      "Epoch 35/300, Train_Loss: 2.3028, Train_Acc: 0.0988, Validation Loss: 2.3027, Val_Acc: 0.1000\n",
      "Epoch 36/300, Train_Loss: 2.3028, Train_Acc: 0.0987, Validation Loss: 2.3027, Val_Acc: 0.1000\n",
      "Epoch 37/300, Train_Loss: 2.3028, Train_Acc: 0.0976, Validation Loss: 2.3027, Val_Acc: 0.1000\n",
      "Epoch 38/300, Train_Loss: 2.3028, Train_Acc: 0.0985, Validation Loss: 2.3027, Val_Acc: 0.1000\n",
      "Epoch 39/300, Train_Loss: 2.3027, Train_Acc: 0.0989, Validation Loss: 2.3028, Val_Acc: 0.1000\n",
      "Epoch 40/300, Train_Loss: 2.3028, Train_Acc: 0.0990, Validation Loss: 2.3027, Val_Acc: 0.1000\n",
      "Epoch 41/300, Train_Loss: 2.3027, Train_Acc: 0.1005, Validation Loss: 2.3026, Val_Acc: 0.1000\n",
      "Epoch 42/300, Train_Loss: 2.3028, Train_Acc: 0.0994, Validation Loss: 2.3027, Val_Acc: 0.1000\n",
      "Epoch 43/300, Train_Loss: 2.3028, Train_Acc: 0.0991, Validation Loss: 2.3028, Val_Acc: 0.1000\n",
      "Epoch 44/300, Train_Loss: 2.3028, Train_Acc: 0.0989, Validation Loss: 2.3027, Val_Acc: 0.1000\n",
      "Epoch 45/300, Train_Loss: 2.3028, Train_Acc: 0.0972, Validation Loss: 2.3028, Val_Acc: 0.1000\n",
      "Epoch 46/300, Train_Loss: 2.3028, Train_Acc: 0.0997, Validation Loss: 2.3027, Val_Acc: 0.1000\n",
      "Epoch 47/300, Train_Loss: 2.3028, Train_Acc: 0.0992, Validation Loss: 2.3027, Val_Acc: 0.1000\n",
      "Epoch 48/300, Train_Loss: 2.3028, Train_Acc: 0.0997, Validation Loss: 2.3027, Val_Acc: 0.1000\n",
      "Epoch 49/300, Train_Loss: 2.3028, Train_Acc: 0.0998, Validation Loss: 2.3027, Val_Acc: 0.1000\n",
      "Epoch 50/300, Train_Loss: 2.3028, Train_Acc: 0.0970, Validation Loss: 2.3027, Val_Acc: 0.1000\n",
      "Epoch 51/300, Train_Loss: 2.3028, Train_Acc: 0.0985, Validation Loss: 2.3027, Val_Acc: 0.1000\n",
      "Epoch 52/300, Train_Loss: 2.3028, Train_Acc: 0.0972, Validation Loss: 2.3026, Val_Acc: 0.1000\n",
      "Epoch 53/300, Train_Loss: 2.3028, Train_Acc: 0.0984, Validation Loss: 2.3027, Val_Acc: 0.1000\n",
      "Epoch 54/300, Train_Loss: 2.3028, Train_Acc: 0.1007, Validation Loss: 2.3027, Val_Acc: 0.1000\n",
      "Epoch 55/300, Train_Loss: 2.3028, Train_Acc: 0.0990, Validation Loss: 2.3027, Val_Acc: 0.1000\n",
      "Epoch 56/300, Train_Loss: 2.3028, Train_Acc: 0.0987, Validation Loss: 2.3027, Val_Acc: 0.1000\n",
      "Epoch 57/300, Train_Loss: 2.3028, Train_Acc: 0.1004, Validation Loss: 2.3027, Val_Acc: 0.1000\n",
      "Epoch 58/300, Train_Loss: 2.3027, Train_Acc: 0.0995, Validation Loss: 2.3028, Val_Acc: 0.1000\n",
      "Epoch 59/300, Train_Loss: 2.3028, Train_Acc: 0.0969, Validation Loss: 2.3027, Val_Acc: 0.1000\n",
      "Epoch 60/300, Train_Loss: 2.3027, Train_Acc: 0.0999, Validation Loss: 2.3027, Val_Acc: 0.1000\n",
      "Epoch 61/300, Train_Loss: 2.3028, Train_Acc: 0.0985, Validation Loss: 2.3028, Val_Acc: 0.1000\n",
      "Epoch 62/300, Train_Loss: 2.3028, Train_Acc: 0.0979, Validation Loss: 2.3026, Val_Acc: 0.1000\n",
      "Epoch 63/300, Train_Loss: 2.3028, Train_Acc: 0.0989, Validation Loss: 2.3027, Val_Acc: 0.1000\n",
      "Epoch 64/300, Train_Loss: 2.3028, Train_Acc: 0.0990, Validation Loss: 2.3027, Val_Acc: 0.1000\n",
      "Epoch 65/300, Train_Loss: 2.3028, Train_Acc: 0.1007, Validation Loss: 2.3027, Val_Acc: 0.1000\n",
      "Epoch 66/300, Train_Loss: 2.3028, Train_Acc: 0.1003, Validation Loss: 2.3026, Val_Acc: 0.1000\n",
      "Epoch 67/300, Train_Loss: 2.3028, Train_Acc: 0.0988, Validation Loss: 2.3027, Val_Acc: 0.1000\n",
      "Epoch 68/300, Train_Loss: 2.3028, Train_Acc: 0.0979, Validation Loss: 2.3027, Val_Acc: 0.1000\n",
      "Epoch 69/300, Train_Loss: 2.3028, Train_Acc: 0.0978, Validation Loss: 2.3026, Val_Acc: 0.1000\n",
      "Epoch 70/300, Train_Loss: 2.3027, Train_Acc: 0.0989, Validation Loss: 2.3028, Val_Acc: 0.1000\n",
      "Epoch 71/300, Train_Loss: 2.3028, Train_Acc: 0.0984, Validation Loss: 2.3027, Val_Acc: 0.1000\n",
      "Epoch 72/300, Train_Loss: 2.3027, Train_Acc: 0.0988, Validation Loss: 2.3028, Val_Acc: 0.1000\n",
      "Epoch 73/300, Train_Loss: 2.3028, Train_Acc: 0.0987, Validation Loss: 2.3027, Val_Acc: 0.1000\n",
      "Epoch 74/300, Train_Loss: 2.3028, Train_Acc: 0.0960, Validation Loss: 2.3027, Val_Acc: 0.1000\n",
      "Epoch 75/300, Train_Loss: 2.3029, Train_Acc: 0.0965, Validation Loss: 2.3027, Val_Acc: 0.1000\n",
      "Epoch 76/300, Train_Loss: 2.3028, Train_Acc: 0.0987, Validation Loss: 2.3028, Val_Acc: 0.1000\n",
      "Epoch 77/300, Train_Loss: 2.3029, Train_Acc: 0.0976, Validation Loss: 2.3027, Val_Acc: 0.1000\n",
      "Epoch 78/300, Train_Loss: 2.3028, Train_Acc: 0.0976, Validation Loss: 2.3026, Val_Acc: 0.1000\n",
      "Epoch 79/300, Train_Loss: 2.3028, Train_Acc: 0.0986, Validation Loss: 2.3027, Val_Acc: 0.1000\n",
      "Epoch 80/300, Train_Loss: 2.3028, Train_Acc: 0.0991, Validation Loss: 2.3027, Val_Acc: 0.1000\n",
      "Epoch 81/300, Train_Loss: 2.3028, Train_Acc: 0.0999, Validation Loss: 2.3027, Val_Acc: 0.1000\n",
      "Epoch 82/300, Train_Loss: 2.3028, Train_Acc: 0.0970, Validation Loss: 2.3028, Val_Acc: 0.1000\n",
      "Epoch 83/300, Train_Loss: 2.3028, Train_Acc: 0.0974, Validation Loss: 2.3027, Val_Acc: 0.1000\n",
      "Epoch 84/300, Train_Loss: 2.3028, Train_Acc: 0.0995, Validation Loss: 2.3026, Val_Acc: 0.1000\n",
      "Epoch 85/300, Train_Loss: 2.3028, Train_Acc: 0.1009, Validation Loss: 2.3026, Val_Acc: 0.1000\n",
      "Epoch 86/300, Train_Loss: 2.3028, Train_Acc: 0.0990, Validation Loss: 2.3026, Val_Acc: 0.1000\n",
      "Epoch 87/300, Train_Loss: 2.3027, Train_Acc: 0.0998, Validation Loss: 2.3028, Val_Acc: 0.1000\n",
      "Epoch 88/300, Train_Loss: 2.3028, Train_Acc: 0.0990, Validation Loss: 2.3028, Val_Acc: 0.1000\n",
      "Epoch 89/300, Train_Loss: 2.3028, Train_Acc: 0.0981, Validation Loss: 2.3027, Val_Acc: 0.1000\n",
      "Epoch 90/300, Train_Loss: 2.3028, Train_Acc: 0.0995, Validation Loss: 2.3027, Val_Acc: 0.1000\n",
      "Epoch 91/300, Train_Loss: 2.3028, Train_Acc: 0.0976, Validation Loss: 2.3027, Val_Acc: 0.1000\n",
      "Epoch 92/300, Train_Loss: 2.3028, Train_Acc: 0.0991, Validation Loss: 2.3027, Val_Acc: 0.1000\n",
      "Epoch 93/300, Train_Loss: 2.3027, Train_Acc: 0.0997, Validation Loss: 2.3028, Val_Acc: 0.1000\n",
      "Epoch 94/300, Train_Loss: 2.3028, Train_Acc: 0.0980, Validation Loss: 2.3027, Val_Acc: 0.1000\n",
      "Epoch 95/300, Train_Loss: 2.3028, Train_Acc: 0.0979, Validation Loss: 2.3026, Val_Acc: 0.1000\n",
      "Epoch 96/300, Train_Loss: 2.3028, Train_Acc: 0.0982, Validation Loss: 2.3028, Val_Acc: 0.1000\n",
      "Epoch 97/300, Train_Loss: 2.3028, Train_Acc: 0.1007, Validation Loss: 2.3027, Val_Acc: 0.1000\n",
      "Epoch 98/300, Train_Loss: 2.3028, Train_Acc: 0.0989, Validation Loss: 2.3027, Val_Acc: 0.1000\n",
      "Epoch 99/300, Train_Loss: 2.3028, Train_Acc: 0.0978, Validation Loss: 2.3026, Val_Acc: 0.1000\n",
      "Epoch 100/300, Train_Loss: 2.3028, Train_Acc: 0.0993, Validation Loss: 2.3027, Val_Acc: 0.1000\n",
      "Epoch 101/300, Train_Loss: 2.3028, Train_Acc: 0.0971, Validation Loss: 2.3027, Val_Acc: 0.1000\n",
      "Epoch 102/300, Train_Loss: 2.3028, Train_Acc: 0.0967, Validation Loss: 2.3028, Val_Acc: 0.1000\n",
      "Epoch 103/300, Train_Loss: 2.3028, Train_Acc: 0.0977, Validation Loss: 2.3028, Val_Acc: 0.1000\n",
      "Epoch 104/300, Train_Loss: 2.3028, Train_Acc: 0.0988, Validation Loss: 2.3027, Val_Acc: 0.1000\n",
      "Epoch 105/300, Train_Loss: 2.3028, Train_Acc: 0.0995, Validation Loss: 2.3027, Val_Acc: 0.1000\n",
      "Epoch 106/300, Train_Loss: 2.3028, Train_Acc: 0.0974, Validation Loss: 2.3027, Val_Acc: 0.1000\n",
      "Epoch 107/300, Train_Loss: 2.3028, Train_Acc: 0.0985, Validation Loss: 2.3027, Val_Acc: 0.1000\n",
      "Epoch 108/300, Train_Loss: 2.3028, Train_Acc: 0.1011, Validation Loss: 2.3027, Val_Acc: 0.1000\n",
      "Epoch 109/300, Train_Loss: 2.3028, Train_Acc: 0.0975, Validation Loss: 2.3027, Val_Acc: 0.1000\n",
      "Epoch 110/300, Train_Loss: 2.3028, Train_Acc: 0.0986, Validation Loss: 2.3027, Val_Acc: 0.1000\n",
      "Epoch 111/300, Train_Loss: 2.3028, Train_Acc: 0.0990, Validation Loss: 2.3027, Val_Acc: 0.1000\n",
      "Epoch 112/300, Train_Loss: 2.3028, Train_Acc: 0.0986, Validation Loss: 2.3027, Val_Acc: 0.1000\n",
      "Epoch 113/300, Train_Loss: 2.3028, Train_Acc: 0.0977, Validation Loss: 2.3026, Val_Acc: 0.1000\n",
      "Epoch 114/300, Train_Loss: 2.3028, Train_Acc: 0.0998, Validation Loss: 2.3027, Val_Acc: 0.1000\n",
      "Epoch 115/300, Train_Loss: 2.3028, Train_Acc: 0.0975, Validation Loss: 2.3027, Val_Acc: 0.1000\n",
      "Epoch 116/300, Train_Loss: 2.3029, Train_Acc: 0.0969, Validation Loss: 2.3027, Val_Acc: 0.1000\n",
      "Epoch 117/300, Train_Loss: 2.3028, Train_Acc: 0.1007, Validation Loss: 2.3026, Val_Acc: 0.1000\n",
      "Epoch 118/300, Train_Loss: 2.3028, Train_Acc: 0.0981, Validation Loss: 2.3028, Val_Acc: 0.1000\n",
      "Epoch 119/300, Train_Loss: 2.3028, Train_Acc: 0.0978, Validation Loss: 2.3027, Val_Acc: 0.1000\n",
      "Epoch 120/300, Train_Loss: 2.3028, Train_Acc: 0.0983, Validation Loss: 2.3027, Val_Acc: 0.1000\n",
      "Epoch 121/300, Train_Loss: 2.3028, Train_Acc: 0.0993, Validation Loss: 2.3027, Val_Acc: 0.1000\n",
      "Epoch 122/300, Train_Loss: 2.3028, Train_Acc: 0.1003, Validation Loss: 2.3026, Val_Acc: 0.1000\n",
      "Epoch 123/300, Train_Loss: 2.3028, Train_Acc: 0.0981, Validation Loss: 2.3027, Val_Acc: 0.1000\n",
      "Epoch 124/300, Train_Loss: 2.3028, Train_Acc: 0.0978, Validation Loss: 2.3027, Val_Acc: 0.1000\n",
      "Epoch 125/300, Train_Loss: 2.3028, Train_Acc: 0.0989, Validation Loss: 2.3027, Val_Acc: 0.1000\n",
      "Epoch 126/300, Train_Loss: 2.3027, Train_Acc: 0.0995, Validation Loss: 2.3028, Val_Acc: 0.1000\n",
      "Epoch 127/300, Train_Loss: 2.3028, Train_Acc: 0.0998, Validation Loss: 2.3028, Val_Acc: 0.1000\n",
      "Epoch 128/300, Train_Loss: 2.3028, Train_Acc: 0.0982, Validation Loss: 2.3027, Val_Acc: 0.1000\n",
      "Epoch 129/300, Train_Loss: 2.3028, Train_Acc: 0.1003, Validation Loss: 2.3028, Val_Acc: 0.1000\n",
      "Epoch 130/300, Train_Loss: 2.3028, Train_Acc: 0.0986, Validation Loss: 2.3027, Val_Acc: 0.1000\n",
      "Epoch 131/300, Train_Loss: 2.3028, Train_Acc: 0.0978, Validation Loss: 2.3027, Val_Acc: 0.1000\n",
      "Epoch 132/300, Train_Loss: 2.3028, Train_Acc: 0.0977, Validation Loss: 2.3026, Val_Acc: 0.1000\n",
      "Epoch 133/300, Train_Loss: 2.3028, Train_Acc: 0.1004, Validation Loss: 2.3027, Val_Acc: 0.1000\n",
      "Epoch 134/300, Train_Loss: 2.3028, Train_Acc: 0.0993, Validation Loss: 2.3027, Val_Acc: 0.1000\n",
      "Epoch 135/300, Train_Loss: 2.3028, Train_Acc: 0.0966, Validation Loss: 2.3028, Val_Acc: 0.1000\n",
      "Epoch 136/300, Train_Loss: 2.3028, Train_Acc: 0.1004, Validation Loss: 2.3027, Val_Acc: 0.1000\n",
      "Epoch 137/300, Train_Loss: 2.3028, Train_Acc: 0.1015, Validation Loss: 2.3027, Val_Acc: 0.1000\n",
      "Epoch 138/300, Train_Loss: 2.3028, Train_Acc: 0.0997, Validation Loss: 2.3027, Val_Acc: 0.1000\n",
      "Epoch 139/300, Train_Loss: 2.3028, Train_Acc: 0.0998, Validation Loss: 2.3027, Val_Acc: 0.1000\n",
      "Epoch 140/300, Train_Loss: 2.3028, Train_Acc: 0.0979, Validation Loss: 2.3028, Val_Acc: 0.1000\n",
      "Epoch 141/300, Train_Loss: 2.3028, Train_Acc: 0.1004, Validation Loss: 2.3030, Val_Acc: 0.1000\n",
      "Epoch 142/300, Train_Loss: 2.3028, Train_Acc: 0.0965, Validation Loss: 2.3027, Val_Acc: 0.1000\n",
      "Epoch 143/300, Train_Loss: 2.3028, Train_Acc: 0.0980, Validation Loss: 2.3027, Val_Acc: 0.1000\n",
      "Epoch 144/300, Train_Loss: 2.3028, Train_Acc: 0.0977, Validation Loss: 2.3027, Val_Acc: 0.1000\n",
      "Epoch 145/300, Train_Loss: 2.3028, Train_Acc: 0.0991, Validation Loss: 2.3027, Val_Acc: 0.1000\n",
      "Epoch 146/300, Train_Loss: 2.3028, Train_Acc: 0.0987, Validation Loss: 2.3026, Val_Acc: 0.1000\n",
      "Epoch 147/300, Train_Loss: 2.3028, Train_Acc: 0.0989, Validation Loss: 2.3027, Val_Acc: 0.1000\n",
      "Epoch 148/300, Train_Loss: 2.3028, Train_Acc: 0.0998, Validation Loss: 2.3027, Val_Acc: 0.1000\n",
      "Epoch 149/300, Train_Loss: 2.3028, Train_Acc: 0.1008, Validation Loss: 2.3026, Val_Acc: 0.1000\n",
      "Epoch 150/300, Train_Loss: 2.3028, Train_Acc: 0.0983, Validation Loss: 2.3027, Val_Acc: 0.1000\n",
      "Epoch 151/300, Train_Loss: 2.3028, Train_Acc: 0.0978, Validation Loss: 2.3027, Val_Acc: 0.1000\n",
      "Epoch 152/300, Train_Loss: 2.3028, Train_Acc: 0.0985, Validation Loss: 2.3027, Val_Acc: 0.1000\n",
      "Epoch 153/300, Train_Loss: 2.3028, Train_Acc: 0.0965, Validation Loss: 2.3026, Val_Acc: 0.1000\n",
      "Epoch 154/300, Train_Loss: 2.3028, Train_Acc: 0.0973, Validation Loss: 2.3028, Val_Acc: 0.1000\n",
      "Epoch 155/300, Train_Loss: 2.3028, Train_Acc: 0.0982, Validation Loss: 2.3027, Val_Acc: 0.1000\n",
      "Epoch 156/300, Train_Loss: 2.3028, Train_Acc: 0.0991, Validation Loss: 2.3027, Val_Acc: 0.1000\n",
      "Epoch 157/300, Train_Loss: 2.3028, Train_Acc: 0.0976, Validation Loss: 2.3026, Val_Acc: 0.1000\n",
      "Epoch 158/300, Train_Loss: 2.3028, Train_Acc: 0.0978, Validation Loss: 2.3027, Val_Acc: 0.1000\n",
      "Epoch 159/300, Train_Loss: 2.3028, Train_Acc: 0.1008, Validation Loss: 2.3027, Val_Acc: 0.1000\n",
      "Epoch 160/300, Train_Loss: 2.3028, Train_Acc: 0.0995, Validation Loss: 2.3026, Val_Acc: 0.1000\n",
      "Epoch 161/300, Train_Loss: 2.3028, Train_Acc: 0.1002, Validation Loss: 2.3027, Val_Acc: 0.1000\n",
      "Epoch 162/300, Train_Loss: 2.3028, Train_Acc: 0.0993, Validation Loss: 2.3027, Val_Acc: 0.1000\n",
      "Epoch 163/300, Train_Loss: 2.3028, Train_Acc: 0.0978, Validation Loss: 2.3026, Val_Acc: 0.1000\n",
      "Epoch 164/300, Train_Loss: 2.3028, Train_Acc: 0.0986, Validation Loss: 2.3026, Val_Acc: 0.1000\n",
      "Epoch 165/300, Train_Loss: 2.3028, Train_Acc: 0.0978, Validation Loss: 2.3027, Val_Acc: 0.1000\n",
      "Epoch 166/300, Train_Loss: 2.3028, Train_Acc: 0.0985, Validation Loss: 2.3027, Val_Acc: 0.1000\n",
      "Epoch 167/300, Train_Loss: 2.3028, Train_Acc: 0.0986, Validation Loss: 2.3027, Val_Acc: 0.1000\n",
      "Epoch 168/300, Train_Loss: 2.3028, Train_Acc: 0.0978, Validation Loss: 2.3028, Val_Acc: 0.1000\n",
      "Epoch 169/300, Train_Loss: 2.3028, Train_Acc: 0.1006, Validation Loss: 2.3027, Val_Acc: 0.1000\n",
      "Epoch 170/300, Train_Loss: 2.3028, Train_Acc: 0.0979, Validation Loss: 2.3027, Val_Acc: 0.1000\n",
      "Epoch 171/300, Train_Loss: 2.3028, Train_Acc: 0.0979, Validation Loss: 2.3026, Val_Acc: 0.1000\n",
      "Epoch 172/300, Train_Loss: 2.3028, Train_Acc: 0.0980, Validation Loss: 2.3027, Val_Acc: 0.1000\n",
      "Epoch 173/300, Train_Loss: 2.3028, Train_Acc: 0.0990, Validation Loss: 2.3028, Val_Acc: 0.1000\n",
      "Epoch 174/300, Train_Loss: 2.3028, Train_Acc: 0.0989, Validation Loss: 2.3027, Val_Acc: 0.1000\n",
      "Epoch 175/300, Train_Loss: 2.3028, Train_Acc: 0.0978, Validation Loss: 2.3027, Val_Acc: 0.1000\n",
      "Epoch 176/300, Train_Loss: 2.3027, Train_Acc: 0.0987, Validation Loss: 2.3027, Val_Acc: 0.1000\n",
      "Epoch 177/300, Train_Loss: 2.3028, Train_Acc: 0.0989, Validation Loss: 2.3027, Val_Acc: 0.1000\n",
      "Epoch 178/300, Train_Loss: 2.3028, Train_Acc: 0.0983, Validation Loss: 2.3026, Val_Acc: 0.1000\n",
      "Epoch 179/300, Train_Loss: 2.3028, Train_Acc: 0.1005, Validation Loss: 2.3027, Val_Acc: 0.1000\n",
      "Epoch 180/300, Train_Loss: 2.3028, Train_Acc: 0.1000, Validation Loss: 2.3027, Val_Acc: 0.1000\n",
      "Epoch 181/300, Train_Loss: 2.3028, Train_Acc: 0.0995, Validation Loss: 2.3027, Val_Acc: 0.1000\n",
      "Epoch 182/300, Train_Loss: 2.3028, Train_Acc: 0.0998, Validation Loss: 2.3026, Val_Acc: 0.1000\n",
      "Epoch 183/300, Train_Loss: 2.3027, Train_Acc: 0.1005, Validation Loss: 2.3027, Val_Acc: 0.1000\n",
      "Epoch 184/300, Train_Loss: 2.3028, Train_Acc: 0.1000, Validation Loss: 2.3027, Val_Acc: 0.1000\n",
      "Epoch 185/300, Train_Loss: 2.3028, Train_Acc: 0.0998, Validation Loss: 2.3028, Val_Acc: 0.1000\n",
      "Epoch 186/300, Train_Loss: 2.3028, Train_Acc: 0.0992, Validation Loss: 2.3028, Val_Acc: 0.1000\n",
      "Epoch 187/300, Train_Loss: 2.3029, Train_Acc: 0.0970, Validation Loss: 2.3027, Val_Acc: 0.1000\n",
      "Epoch 188/300, Train_Loss: 2.3028, Train_Acc: 0.0992, Validation Loss: 2.3027, Val_Acc: 0.1000\n",
      "Epoch 189/300, Train_Loss: 2.3028, Train_Acc: 0.0971, Validation Loss: 2.3027, Val_Acc: 0.1000\n",
      "Epoch 190/300, Train_Loss: 2.3028, Train_Acc: 0.0988, Validation Loss: 2.3027, Val_Acc: 0.1000\n",
      "Epoch 191/300, Train_Loss: 2.3028, Train_Acc: 0.0982, Validation Loss: 2.3026, Val_Acc: 0.1000\n",
      "Epoch 192/300, Train_Loss: 2.3028, Train_Acc: 0.0988, Validation Loss: 2.3027, Val_Acc: 0.1000\n",
      "Epoch 193/300, Train_Loss: 2.3027, Train_Acc: 0.1014, Validation Loss: 2.3028, Val_Acc: 0.1000\n",
      "Epoch 194/300, Train_Loss: 2.3028, Train_Acc: 0.0984, Validation Loss: 2.3027, Val_Acc: 0.1000\n",
      "Epoch 195/300, Train_Loss: 2.3028, Train_Acc: 0.0980, Validation Loss: 2.3027, Val_Acc: 0.1000\n",
      "Epoch 196/300, Train_Loss: 2.3028, Train_Acc: 0.0983, Validation Loss: 2.3027, Val_Acc: 0.1000\n",
      "Epoch 197/300, Train_Loss: 2.3028, Train_Acc: 0.0991, Validation Loss: 2.3026, Val_Acc: 0.1000\n",
      "Epoch 198/300, Train_Loss: 2.3028, Train_Acc: 0.0984, Validation Loss: 2.3026, Val_Acc: 0.1000\n",
      "Epoch 199/300, Train_Loss: 2.3028, Train_Acc: 0.1001, Validation Loss: 2.3027, Val_Acc: 0.1000\n",
      "Epoch 200/300, Train_Loss: 2.3028, Train_Acc: 0.1001, Validation Loss: 2.3026, Val_Acc: 0.1000\n",
      "Epoch 201/300, Train_Loss: 2.3028, Train_Acc: 0.0987, Validation Loss: 2.3027, Val_Acc: 0.1000\n",
      "Epoch 202/300, Train_Loss: 2.3028, Train_Acc: 0.0988, Validation Loss: 2.3027, Val_Acc: 0.1000\n",
      "Epoch 203/300, Train_Loss: 2.3028, Train_Acc: 0.0997, Validation Loss: 2.3027, Val_Acc: 0.1000\n",
      "Epoch 204/300, Train_Loss: 2.3028, Train_Acc: 0.0982, Validation Loss: 2.3027, Val_Acc: 0.1000\n",
      "Epoch 205/300, Train_Loss: 2.3028, Train_Acc: 0.0975, Validation Loss: 2.3027, Val_Acc: 0.1000\n",
      "Epoch 206/300, Train_Loss: 2.3028, Train_Acc: 0.0994, Validation Loss: 2.3027, Val_Acc: 0.1000\n",
      "Epoch 207/300, Train_Loss: 2.3028, Train_Acc: 0.0997, Validation Loss: 2.3027, Val_Acc: 0.1000\n",
      "Epoch 208/300, Train_Loss: 2.3028, Train_Acc: 0.0989, Validation Loss: 2.3027, Val_Acc: 0.1000\n",
      "Epoch 209/300, Train_Loss: 2.3028, Train_Acc: 0.0983, Validation Loss: 2.3028, Val_Acc: 0.1000\n",
      "Epoch 210/300, Train_Loss: 2.3028, Train_Acc: 0.0989, Validation Loss: 2.3027, Val_Acc: 0.1000\n",
      "Epoch 211/300, Train_Loss: 2.3028, Train_Acc: 0.0995, Validation Loss: 2.3026, Val_Acc: 0.1000\n",
      "Epoch 212/300, Train_Loss: 2.3028, Train_Acc: 0.0961, Validation Loss: 2.3027, Val_Acc: 0.1000\n",
      "Epoch 213/300, Train_Loss: 2.3028, Train_Acc: 0.0979, Validation Loss: 2.3027, Val_Acc: 0.1000\n",
      "Epoch 214/300, Train_Loss: 2.3028, Train_Acc: 0.1011, Validation Loss: 2.3027, Val_Acc: 0.1000\n",
      "Epoch 215/300, Train_Loss: 2.3028, Train_Acc: 0.0996, Validation Loss: 2.3029, Val_Acc: 0.1000\n",
      "Epoch 216/300, Train_Loss: 2.3028, Train_Acc: 0.0979, Validation Loss: 2.3027, Val_Acc: 0.1000\n",
      "Epoch 217/300, Train_Loss: 2.3028, Train_Acc: 0.0981, Validation Loss: 2.3027, Val_Acc: 0.1000\n",
      "Epoch 218/300, Train_Loss: 2.3028, Train_Acc: 0.0988, Validation Loss: 2.3026, Val_Acc: 0.1000\n",
      "Epoch 219/300, Train_Loss: 2.3028, Train_Acc: 0.0998, Validation Loss: 2.3026, Val_Acc: 0.1000\n",
      "Epoch 220/300, Train_Loss: 2.3028, Train_Acc: 0.0988, Validation Loss: 2.3026, Val_Acc: 0.1000\n",
      "Epoch 221/300, Train_Loss: 2.3028, Train_Acc: 0.0974, Validation Loss: 2.3027, Val_Acc: 0.1000\n",
      "Epoch 222/300, Train_Loss: 2.3028, Train_Acc: 0.0991, Validation Loss: 2.3026, Val_Acc: 0.1000\n",
      "Epoch 223/300, Train_Loss: 2.3028, Train_Acc: 0.0985, Validation Loss: 2.3027, Val_Acc: 0.1000\n",
      "Epoch 224/300, Train_Loss: 2.3028, Train_Acc: 0.0982, Validation Loss: 2.3026, Val_Acc: 0.1000\n",
      "Epoch 225/300, Train_Loss: 2.3028, Train_Acc: 0.0998, Validation Loss: 2.3027, Val_Acc: 0.1000\n",
      "Epoch 226/300, Train_Loss: 2.3028, Train_Acc: 0.0995, Validation Loss: 2.3026, Val_Acc: 0.1000\n",
      "Epoch 227/300, Train_Loss: 2.3028, Train_Acc: 0.0998, Validation Loss: 2.3028, Val_Acc: 0.1000\n",
      "Epoch 228/300, Train_Loss: 2.3027, Train_Acc: 0.1003, Validation Loss: 2.3027, Val_Acc: 0.1000\n",
      "Epoch 229/300, Train_Loss: 2.3028, Train_Acc: 0.0992, Validation Loss: 2.3029, Val_Acc: 0.1000\n",
      "Epoch 230/300, Train_Loss: 2.3028, Train_Acc: 0.0972, Validation Loss: 2.3026, Val_Acc: 0.1000\n",
      "Epoch 231/300, Train_Loss: 2.3028, Train_Acc: 0.0998, Validation Loss: 2.3027, Val_Acc: 0.1000\n",
      "Epoch 232/300, Train_Loss: 2.3028, Train_Acc: 0.0998, Validation Loss: 2.3027, Val_Acc: 0.1000\n",
      "Epoch 233/300, Train_Loss: 2.3028, Train_Acc: 0.0994, Validation Loss: 2.3027, Val_Acc: 0.1000\n",
      "Epoch 234/300, Train_Loss: 2.3028, Train_Acc: 0.0990, Validation Loss: 2.3028, Val_Acc: 0.1000\n",
      "Epoch 235/300, Train_Loss: 2.3028, Train_Acc: 0.0969, Validation Loss: 2.3027, Val_Acc: 0.1000\n",
      "Epoch 236/300, Train_Loss: 2.3028, Train_Acc: 0.0991, Validation Loss: 2.3028, Val_Acc: 0.1000\n",
      "Epoch 237/300, Train_Loss: 2.3028, Train_Acc: 0.0993, Validation Loss: 2.3027, Val_Acc: 0.1000\n",
      "Epoch 238/300, Train_Loss: 2.3027, Train_Acc: 0.1001, Validation Loss: 2.3027, Val_Acc: 0.1000\n",
      "Epoch 239/300, Train_Loss: 2.3028, Train_Acc: 0.0986, Validation Loss: 2.3026, Val_Acc: 0.1000\n",
      "Epoch 240/300, Train_Loss: 2.3028, Train_Acc: 0.0968, Validation Loss: 2.3026, Val_Acc: 0.1000\n",
      "Epoch 241/300, Train_Loss: 2.3028, Train_Acc: 0.0988, Validation Loss: 2.3027, Val_Acc: 0.1000\n",
      "Epoch 242/300, Train_Loss: 2.3028, Train_Acc: 0.0990, Validation Loss: 2.3027, Val_Acc: 0.1000\n",
      "Epoch 243/300, Train_Loss: 2.3028, Train_Acc: 0.0983, Validation Loss: 2.3028, Val_Acc: 0.1000\n",
      "Epoch 244/300, Train_Loss: 2.3028, Train_Acc: 0.0998, Validation Loss: 2.3027, Val_Acc: 0.1000\n",
      "Epoch 245/300, Train_Loss: 2.3028, Train_Acc: 0.0998, Validation Loss: 2.3028, Val_Acc: 0.1000\n",
      "Epoch 246/300, Train_Loss: 2.3028, Train_Acc: 0.0986, Validation Loss: 2.3027, Val_Acc: 0.1000\n",
      "Epoch 247/300, Train_Loss: 2.3028, Train_Acc: 0.0988, Validation Loss: 2.3027, Val_Acc: 0.1000\n",
      "Epoch 248/300, Train_Loss: 2.3028, Train_Acc: 0.0977, Validation Loss: 2.3027, Val_Acc: 0.1000\n",
      "Epoch 249/300, Train_Loss: 2.3028, Train_Acc: 0.0980, Validation Loss: 2.3027, Val_Acc: 0.1000\n",
      "Epoch 250/300, Train_Loss: 2.3028, Train_Acc: 0.0970, Validation Loss: 2.3027, Val_Acc: 0.1000\n",
      "Epoch 251/300, Train_Loss: 2.3028, Train_Acc: 0.0989, Validation Loss: 2.3027, Val_Acc: 0.1000\n",
      "Epoch 252/300, Train_Loss: 2.3028, Train_Acc: 0.0985, Validation Loss: 2.3026, Val_Acc: 0.1000\n",
      "Epoch 253/300, Train_Loss: 2.3028, Train_Acc: 0.0989, Validation Loss: 2.3026, Val_Acc: 0.1000\n",
      "Epoch 254/300, Train_Loss: 2.3028, Train_Acc: 0.0991, Validation Loss: 2.3028, Val_Acc: 0.1000\n",
      "Epoch 255/300, Train_Loss: 2.3028, Train_Acc: 0.0976, Validation Loss: 2.3027, Val_Acc: 0.1000\n",
      "Epoch 256/300, Train_Loss: 2.3028, Train_Acc: 0.0983, Validation Loss: 2.3026, Val_Acc: 0.1000\n",
      "Epoch 257/300, Train_Loss: 2.3027, Train_Acc: 0.1011, Validation Loss: 2.3027, Val_Acc: 0.1000\n",
      "Epoch 258/300, Train_Loss: 2.3028, Train_Acc: 0.0999, Validation Loss: 2.3027, Val_Acc: 0.1000\n",
      "Epoch 259/300, Train_Loss: 2.3028, Train_Acc: 0.0967, Validation Loss: 2.3026, Val_Acc: 0.1000\n",
      "Epoch 260/300, Train_Loss: 2.3028, Train_Acc: 0.0990, Validation Loss: 2.3027, Val_Acc: 0.1000\n",
      "Epoch 261/300, Train_Loss: 2.3027, Train_Acc: 0.0992, Validation Loss: 2.3028, Val_Acc: 0.1000\n",
      "Epoch 262/300, Train_Loss: 2.3028, Train_Acc: 0.0974, Validation Loss: 2.3026, Val_Acc: 0.1000\n",
      "Epoch 263/300, Train_Loss: 2.3028, Train_Acc: 0.0987, Validation Loss: 2.3026, Val_Acc: 0.1000\n",
      "Epoch 264/300, Train_Loss: 2.3028, Train_Acc: 0.0975, Validation Loss: 2.3027, Val_Acc: 0.1000\n",
      "Epoch 265/300, Train_Loss: 2.3028, Train_Acc: 0.0968, Validation Loss: 2.3027, Val_Acc: 0.1000\n",
      "Epoch 266/300, Train_Loss: 2.3028, Train_Acc: 0.0990, Validation Loss: 2.3029, Val_Acc: 0.1000\n",
      "Epoch 267/300, Train_Loss: 2.3028, Train_Acc: 0.0991, Validation Loss: 2.3026, Val_Acc: 0.1000\n",
      "Epoch 268/300, Train_Loss: 2.3028, Train_Acc: 0.0988, Validation Loss: 2.3027, Val_Acc: 0.1000\n",
      "Epoch 269/300, Train_Loss: 2.3028, Train_Acc: 0.0989, Validation Loss: 2.3027, Val_Acc: 0.1000\n",
      "Epoch 270/300, Train_Loss: 2.3028, Train_Acc: 0.1011, Validation Loss: 2.3027, Val_Acc: 0.1000\n",
      "Epoch 271/300, Train_Loss: 2.3028, Train_Acc: 0.0997, Validation Loss: 2.3028, Val_Acc: 0.1000\n",
      "Epoch 272/300, Train_Loss: 2.3028, Train_Acc: 0.0978, Validation Loss: 2.3027, Val_Acc: 0.1000\n",
      "Epoch 273/300, Train_Loss: 2.3027, Train_Acc: 0.0998, Validation Loss: 2.3028, Val_Acc: 0.1000\n",
      "Epoch 274/300, Train_Loss: 2.3028, Train_Acc: 0.0993, Validation Loss: 2.3027, Val_Acc: 0.1000\n",
      "Epoch 275/300, Train_Loss: 2.3028, Train_Acc: 0.0984, Validation Loss: 2.3028, Val_Acc: 0.1000\n",
      "Epoch 276/300, Train_Loss: 2.3028, Train_Acc: 0.0992, Validation Loss: 2.3027, Val_Acc: 0.1000\n",
      "Epoch 277/300, Train_Loss: 2.3028, Train_Acc: 0.0989, Validation Loss: 2.3027, Val_Acc: 0.1000\n",
      "Epoch 278/300, Train_Loss: 2.3028, Train_Acc: 0.0998, Validation Loss: 2.3027, Val_Acc: 0.1000\n",
      "Epoch 279/300, Train_Loss: 2.3028, Train_Acc: 0.0978, Validation Loss: 2.3026, Val_Acc: 0.1000\n",
      "Epoch 280/300, Train_Loss: 2.3028, Train_Acc: 0.0997, Validation Loss: 2.3027, Val_Acc: 0.1000\n",
      "Epoch 281/300, Train_Loss: 2.3028, Train_Acc: 0.0978, Validation Loss: 2.3027, Val_Acc: 0.1000\n",
      "Epoch 282/300, Train_Loss: 2.3028, Train_Acc: 0.0988, Validation Loss: 2.3027, Val_Acc: 0.1000\n",
      "Epoch 283/300, Train_Loss: 2.3028, Train_Acc: 0.1001, Validation Loss: 2.3027, Val_Acc: 0.1000\n",
      "Epoch 284/300, Train_Loss: 2.3027, Train_Acc: 0.1003, Validation Loss: 2.3027, Val_Acc: 0.1000\n",
      "Epoch 285/300, Train_Loss: 2.3028, Train_Acc: 0.0956, Validation Loss: 2.3027, Val_Acc: 0.1000\n",
      "Epoch 286/300, Train_Loss: 2.3028, Train_Acc: 0.0984, Validation Loss: 2.3026, Val_Acc: 0.1000\n",
      "Epoch 287/300, Train_Loss: 2.3028, Train_Acc: 0.0972, Validation Loss: 2.3028, Val_Acc: 0.1000\n",
      "Epoch 288/300, Train_Loss: 2.3028, Train_Acc: 0.0996, Validation Loss: 2.3027, Val_Acc: 0.1000\n",
      "Epoch 289/300, Train_Loss: 2.3028, Train_Acc: 0.0997, Validation Loss: 2.3027, Val_Acc: 0.1000\n",
      "Epoch 290/300, Train_Loss: 2.3028, Train_Acc: 0.0983, Validation Loss: 2.3026, Val_Acc: 0.1000\n",
      "Epoch 291/300, Train_Loss: 2.3028, Train_Acc: 0.0963, Validation Loss: 2.3026, Val_Acc: 0.1000\n",
      "Epoch 292/300, Train_Loss: 2.3028, Train_Acc: 0.0991, Validation Loss: 2.3027, Val_Acc: 0.1000\n",
      "Epoch 293/300, Train_Loss: 2.3028, Train_Acc: 0.0973, Validation Loss: 2.3027, Val_Acc: 0.1000\n",
      "Epoch 294/300, Train_Loss: 2.3028, Train_Acc: 0.0987, Validation Loss: 2.3027, Val_Acc: 0.1000\n",
      "Epoch 295/300, Train_Loss: 2.3028, Train_Acc: 0.0987, Validation Loss: 2.3027, Val_Acc: 0.1000\n",
      "Epoch 296/300, Train_Loss: 2.3027, Train_Acc: 0.0980, Validation Loss: 2.3027, Val_Acc: 0.1000\n",
      "Epoch 297/300, Train_Loss: 2.3028, Train_Acc: 0.0982, Validation Loss: 2.3027, Val_Acc: 0.1000\n",
      "Epoch 298/300, Train_Loss: 2.3028, Train_Acc: 0.0988, Validation Loss: 2.3027, Val_Acc: 0.1000\n",
      "Epoch 299/300, Train_Loss: 2.3027, Train_Acc: 0.0979, Validation Loss: 2.3028, Val_Acc: 0.1000\n",
      "Epoch 300/300, Train_Loss: 2.3028, Train_Acc: 0.0992, Validation Loss: 2.3027, Val_Acc: 0.1000\n"
     ]
    }
   ],
   "source": [
    "train_losses = []\n",
    "train_acc = []\n",
    "val_losses = []\n",
    "val_acc = []\n",
    "for epoch in range(num_epochs):\n",
    "    model.train()\n",
    "    t_loss = 0\n",
    "    t_acc = 0\n",
    "    cnt = 0\n",
    "    for X, y in train_loader:\n",
    "        X, y = X.to(device), y.to(device)\n",
    "        optimizer.zero_grad()\n",
    "        outputs = model(X)\n",
    "        loss = criterion(outputs, y)\n",
    "        loss.backward()\n",
    "        optimizer.step()\n",
    "        t_loss += loss.item()\n",
    "        t_acc += (torch.argmax(outputs, 1) == y).sum().item()\n",
    "        cnt += len(y)\n",
    "    t_loss /= len(train_loader)\n",
    "    train_losses.append(t_loss)\n",
    "    t_acc /= cnt\n",
    "    train_acc.append(t_acc)\n",
    "\n",
    "    model.eval()\n",
    "    v_loss = 0\n",
    "    v_acc = 0\n",
    "    cnt = 0\n",
    "    with torch.no_grad():\n",
    "        for X, y in test_loader:\n",
    "            X, y = X.to(device), y.to(device)\n",
    "            outputs = model(X)\n",
    "            loss = criterion(outputs, y)\n",
    "            v_loss += loss.item()\n",
    "            v_acc += (torch.argmax(outputs, 1) == y).sum().item()\n",
    "            cnt += len(y)\n",
    "    v_loss /= len(test_loader)\n",
    "    val_losses.append(v_loss)\n",
    "    v_acc /= cnt\n",
    "    val_acc.append(v_acc)\n",
    "    print(\n",
    "        f\"Epoch {epoch + 1}/{num_epochs}, Train_Loss: {t_loss:.4f}, Train_Acc: {t_acc:.4f}, Validation Loss: {v_loss:.4f}, Val_Acc: {v_acc:.4f}\"\n",
    "    )"
   ]
  },
  {
   "cell_type": "code",
   "execution_count": null,
   "id": "1ebf4079",
   "metadata": {},
   "outputs": [
    {
     "data": {
      "text/plain": [
       "<matplotlib.legend.Legend at 0x1dc75963cb0>"
      ]
     },
     "execution_count": 18,
     "metadata": {},
     "output_type": "execute_result"
    },
    {
     "data": {
      "image/png": "[encoded data removed]",
      "text/plain": [
       "<Figure size 640x480 with 1 Axes>"
      ]
     },
     "metadata": {},
     "output_type": "display_data"
    }
   ],
   "source": [
    "plt.plot(train_losses, label=\"loss\")\n",
    "plt.plot(val_losses, label=\"val_loss\")\n",
    "plt.xlabel(\"iteration\")\n",
    "plt.ylabel(\"Loss\")\n",
    "plt.legend()"
   ]
  },
  {
   "cell_type": "code",
   "execution_count": null,
   "id": "4d7f0688",
   "metadata": {},
   "outputs": [
    {
     "data": {
      "text/plain": [
       "<matplotlib.legend.Legend at 0x1dc759601a0>"
      ]
     },
     "execution_count": 19,
     "metadata": {},
     "output_type": "execute_result"
    },
    {
     "data": {
      "image/png": "[encoded data removed]",
      "text/plain": [
       "<Figure size 640x480 with 1 Axes>"
      ]
     },
     "metadata": {},
     "output_type": "display_data"
    }
   ],
   "source": [
    "plt.plot(train_acc, label=\"train_accuracy\")\n",
    "plt.plot(val_acc, label=\"val_accuracy\")\n",
    "plt.xlabel(\"iteration\")\n",
    "plt.ylabel(\"Accuracy\")\n",
    "plt.legend()"
   ]
  },
  {
   "cell_type": "code",
   "execution_count": null,
   "id": "2294327c",
   "metadata": {},
   "outputs": [],
   "source": []
  }
 ],
 "metadata": {
  "kernelspec": {
   "display_name": "ml-env",
   "language": "python",
   "name": "python3"
  },
  "language_info": {
   "codemirror_mode": {
    "name": "ipython",
    "version": 3
   },
   "file_extension": ".py",
   "mimetype": "text/x-python",
   "name": "python",
   "nbconvert_exporter": "python",
   "pygments_lexer": "ipython3",
   "version": "3.12.4"
  }
 },
 "nbformat": 4,
 "nbformat_minor": 5
}
