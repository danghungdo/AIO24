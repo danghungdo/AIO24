{
 "cells": [
  {
   "cell_type": "code",
   "execution_count": null,
   "id": "84b1ce37",
   "metadata": {},
   "outputs": [],
   "source": [
    "import os\n",
    "\n",
    "import torch\n",
    "import torch.nn as nn\n",
    "import torch.optim as optim\n",
    "import torch.nn.functional as F\n",
    "import torch.utils.data as data\n",
    "\n",
    "import torchvision.transforms as transforms\n",
    "import torchvision.datasets as datasets\n",
    "import time\n",
    "\n",
    "import matplotlib.pyplot as plt"
   ]
  },
  {
   "cell_type": "markdown",
   "id": "864c02f4",
   "metadata": {},
   "source": [
    "### MNIST Dataset\n"
   ]
  },
  {
   "cell_type": "code",
   "execution_count": 4,
   "id": "ea471f3a",
   "metadata": {},
   "outputs": [
    {
     "name": "stdout",
     "output_type": "stream",
     "text": [
      "Downloading http://yann.lecun.com/exdb/mnist/train-images-idx3-ubyte.gz\n",
      "Failed to download (trying next):\n",
      "HTTP Error 404: Not Found\n",
      "\n",
      "Downloading https://ossci-datasets.s3.amazonaws.com/mnist/train-images-idx3-ubyte.gz\n",
      "Downloading https://ossci-datasets.s3.amazonaws.com/mnist/train-images-idx3-ubyte.gz to ./data\\MNIST\\raw\\train-images-idx3-ubyte.gz\n"
     ]
    },
    {
     "name": "stderr",
     "output_type": "stream",
     "text": [
      "100%|██████████| 9912422/9912422 [00:01<00:00, 7300785.69it/s] \n"
     ]
    },
    {
     "name": "stdout",
     "output_type": "stream",
     "text": [
      "Extracting ./data\\MNIST\\raw\\train-images-idx3-ubyte.gz to ./data\\MNIST\\raw\n",
      "\n",
      "Downloading http://yann.lecun.com/exdb/mnist/train-labels-idx1-ubyte.gz\n",
      "Failed to download (trying next):\n",
      "HTTP Error 404: Not Found\n",
      "\n",
      "Downloading https://ossci-datasets.s3.amazonaws.com/mnist/train-labels-idx1-ubyte.gz\n",
      "Downloading https://ossci-datasets.s3.amazonaws.com/mnist/train-labels-idx1-ubyte.gz to ./data\\MNIST\\raw\\train-labels-idx1-ubyte.gz\n"
     ]
    },
    {
     "name": "stderr",
     "output_type": "stream",
     "text": [
      "100%|██████████| 28881/28881 [00:00<00:00, 291403.82it/s]\n"
     ]
    },
    {
     "name": "stdout",
     "output_type": "stream",
     "text": [
      "Extracting ./data\\MNIST\\raw\\train-labels-idx1-ubyte.gz to ./data\\MNIST\\raw\n",
      "\n",
      "Downloading http://yann.lecun.com/exdb/mnist/t10k-images-idx3-ubyte.gz\n",
      "Failed to download (trying next):\n",
      "HTTP Error 404: Not Found\n",
      "\n",
      "Downloading https://ossci-datasets.s3.amazonaws.com/mnist/t10k-images-idx3-ubyte.gz\n",
      "Downloading https://ossci-datasets.s3.amazonaws.com/mnist/t10k-images-idx3-ubyte.gz to ./data\\MNIST\\raw\\t10k-images-idx3-ubyte.gz\n"
     ]
    },
    {
     "name": "stderr",
     "output_type": "stream",
     "text": [
      "100%|██████████| 1648877/1648877 [00:05<00:00, 316675.29it/s]\n"
     ]
    },
    {
     "name": "stdout",
     "output_type": "stream",
     "text": [
      "Extracting ./data\\MNIST\\raw\\t10k-images-idx3-ubyte.gz to ./data\\MNIST\\raw\n",
      "\n",
      "Downloading http://yann.lecun.com/exdb/mnist/t10k-labels-idx1-ubyte.gz\n",
      "Failed to download (trying next):\n",
      "HTTP Error 404: Not Found\n",
      "\n",
      "Downloading https://ossci-datasets.s3.amazonaws.com/mnist/t10k-labels-idx1-ubyte.gz\n",
      "Downloading https://ossci-datasets.s3.amazonaws.com/mnist/t10k-labels-idx1-ubyte.gz to ./data\\MNIST\\raw\\t10k-labels-idx1-ubyte.gz\n"
     ]
    },
    {
     "name": "stderr",
     "output_type": "stream",
     "text": [
      "100%|██████████| 4542/4542 [00:00<?, ?it/s]"
     ]
    },
    {
     "name": "stdout",
     "output_type": "stream",
     "text": [
      "Extracting ./data\\MNIST\\raw\\t10k-labels-idx1-ubyte.gz to ./data\\MNIST\\raw\n",
      "\n"
     ]
    },
    {
     "name": "stderr",
     "output_type": "stream",
     "text": [
      "\n"
     ]
    }
   ],
   "source": [
    "ROOT = \"./data\"\n",
    "train_data = datasets.MNIST(root=ROOT, train=True, download=True)\n",
    "test_data = datasets.MNIST(root=ROOT, train=False, download=True)"
   ]
  },
  {
   "cell_type": "code",
   "execution_count": null,
   "id": "72987288",
   "metadata": {},
   "outputs": [],
   "source": [
    "# split train/val set\n",
    "\n",
    "VALID_RATIO = 0.9\n",
    "\n",
    "n_train_examples = int(len(train_data) * VALID_RATIO)\n",
    "n_valid_examples = len(train_data) - n_train_examples\n",
    "\n",
    "train_data, valid_data = data.random_split(\n",
    "    train_data, [n_train_examples, n_valid_examples]\n",
    ")\n",
    "\n",
    "# compute mean and std and setup transforms\n",
    "mean = train_data.dataset.data.float().mean() / 255\n",
    "std = train_data.dataset.data.float().std() / 255\n",
    "\n",
    "train_trainsforms = transforms.Compose(\n",
    "    [transforms.ToTensor(), transforms.Normalize(mean, std)]\n",
    ")\n",
    "test_trainsforms = transforms.Compose(\n",
    "    [transforms.ToTensor(), transforms.Normalize(mean, std)]\n",
    ")\n",
    "\n",
    "train_data.dataset.transform = train_trainsforms\n",
    "valid_data.dataset.transform = test_trainsforms\n",
    "test_data.transform = test_trainsforms"
   ]
  },
  {
   "cell_type": "code",
   "execution_count": 9,
   "id": "22fa4afc",
   "metadata": {},
   "outputs": [],
   "source": [
    "# create dataloader\n",
    "BATCH_SIZE = 256\n",
    "train_dataloader = data.DataLoader(train_data, batch_size=BATCH_SIZE, shuffle=True)\n",
    "valid_dataloader = data.DataLoader(valid_data, batch_size=BATCH_SIZE)"
   ]
  },
  {
   "cell_type": "markdown",
   "id": "38e20b1c",
   "metadata": {},
   "source": [
    "### LeNet\n"
   ]
  },
  {
   "cell_type": "code",
   "execution_count": null,
   "id": "2a14a09c",
   "metadata": {},
   "outputs": [],
   "source": [
    "class LeNetClassifier(nn.Module):\n",
    "    def __init__(self, num_classes):\n",
    "        super().__init__()\n",
    "        self.conv1 = nn.Conv2d(\n",
    "            in_channels=1, out_channels=6, kernel_size=5, padding=\"same\"\n",
    "        )\n",
    "        self.avgpool1 = nn.AvgPool2d(kernel_size=2)\n",
    "        self.conv2 = nn.Conv2d(in_channels=6, out_channels=16, kernel_size=5)\n",
    "        self.avgpool2 = nn.AvgPool2d(kernel_size=2)\n",
    "        self.flatten = nn.Flatten()\n",
    "        self.fc_1 = nn.Linear(16 * 5 * 5, 120)\n",
    "        self.fc_2 = nn.Linear(120, 84)\n",
    "        self.fc_3 = nn.Linear(84, num_classes)\n",
    "\n",
    "    def forward(self, inputs):\n",
    "        outputs = self.conv1(inputs)\n",
    "        outputs = self.avgpool1(outputs)\n",
    "        outputs = F.relu(outputs)\n",
    "        outputs = self.conv2(outputs)\n",
    "        outputs = self.avgpool2(outputs)\n",
    "        outputs = F.relu(outputs)\n",
    "        outputs = self.flatten(outputs)\n",
    "        outputs = self.fc_1(outputs)\n",
    "        outputs = self.fc_2(outputs)\n",
    "        outputs = self.fc_3(outputs)\n",
    "        return outputs"
   ]
  },
  {
   "cell_type": "code",
   "execution_count": null,
   "id": "eddddc15",
   "metadata": {},
   "outputs": [],
   "source": [
    "# train function\n",
    "def train(model, optimizer, criterion, device, epoch=0, log_interval=50):\n",
    "    model.train()\n",
    "    total_acc, total_count = 0, 0\n",
    "    losses = []\n",
    "    start_time = time.time()\n",
    "\n",
    "    for idx, (inputs, labels) in enumerate(train_dataloader):\n",
    "        inputs = inputs.to(device)\n",
    "        labels = labels.to(device)\n",
    "\n",
    "        optimizer.zero_grad()\n",
    "\n",
    "        predictions = model(inputs)\n",
    "\n",
    "        loss = criterion(predictions, labels)\n",
    "        losses.append(loss.item())\n",
    "\n",
    "        # backward\n",
    "        loss.backward()\n",
    "        torch.nn.utils.clip_grad_norm_(model.parameters(), 0.1)\n",
    "        optimizer.step()\n",
    "\n",
    "        total_acc += (predictions.argmax(1) == labels).sum().item()\n",
    "        total_count += labels.size(0)\n",
    "        if idx % log_interval == 0 and idx > 0:\n",
    "            elapsed = time.time() - start_time\n",
    "\n",
    "            print(\n",
    "                \"| epoch {:3d} | {:5d}/{:5d} batches | accuracy {:8.3f}\".format(\n",
    "                    epoch, idx, len(train_dataloader), total_acc / total_count\n",
    "                )\n",
    "            )\n",
    "            print(f\"Time: {elapsed}\")\n",
    "            total_acc, total_count = 0, 0\n",
    "            start_time = time.time()\n",
    "    epoch_acc = total_acc / total_count\n",
    "    epoch_loss = sum(losses) / len(losses)\n",
    "    return epoch_acc, epoch_loss\n",
    "\n",
    "\n",
    "def evaluate(model, criterion, valid_dataloader):\n",
    "    model.eval()\n",
    "    total_acc, total_count = 0, 0\n",
    "    losses = []\n",
    "\n",
    "    with torch.no_grad():\n",
    "        for idx, (inputs, labels) in enumerate(valid_dataloader):\n",
    "            inputs = inputs.to(device)\n",
    "            labels = labels.to(device)\n",
    "\n",
    "            predictions = model(inputs)\n",
    "\n",
    "            loss = criterion(predictions, labels)\n",
    "            losses.append(loss.item())\n",
    "\n",
    "            total_acc += (predictions.argmax(1) == labels).sum().item()\n",
    "            total_count += labels.size(0)\n",
    "    epoch_acc = total_acc / total_count\n",
    "    epoch_loss = sum(losses) / len(losses)\n",
    "    return epoch_acc, epoch_loss\n"
   ]
  },
  {
   "cell_type": "code",
   "execution_count": null,
   "id": "9468e987",
   "metadata": {},
   "outputs": [
    {
     "name": "stdout",
     "output_type": "stream",
     "text": [
      "cuda\n",
      "Num classes: 10\n",
      "| epoch   0 |    50/  211 batches | accuracy    0.634\n",
      "Time: 1.6520195007324219\n",
      "| epoch   0 |   100/  211 batches | accuracy    0.895\n",
      "Time: 1.509096384048462\n",
      "| epoch   0 |   150/  211 batches | accuracy    0.933\n",
      "Time: 1.4545528888702393\n",
      "| epoch   0 |   200/  211 batches | accuracy    0.949\n",
      "Time: 1.4447367191314697\n",
      "-----------------------------------------------------------\n",
      "| End of epoch   0 | time:  6.93s | train loss  0.48 | train acc    0.952 | eval loss  0.17 | eval acc    0.946\n",
      "-----------------------------------------------------------\n",
      "| epoch   1 |    50/  211 batches | accuracy    0.959\n",
      "Time: 1.522287368774414\n",
      "| epoch   1 |   100/  211 batches | accuracy    0.963\n",
      "Time: 1.4535622596740723\n",
      "| epoch   1 |   150/  211 batches | accuracy    0.967\n",
      "Time: 1.4526541233062744\n",
      "| epoch   1 |   200/  211 batches | accuracy    0.971\n",
      "Time: 1.4396743774414062\n",
      "-----------------------------------------------------------\n",
      "| End of epoch   1 | time:  6.74s | train loss  0.11 | train acc    0.974 | eval loss  0.11 | eval acc    0.966\n",
      "-----------------------------------------------------------\n",
      "| epoch   2 |    50/  211 batches | accuracy    0.973\n",
      "Time: 1.5228192806243896\n",
      "| epoch   2 |   100/  211 batches | accuracy    0.972\n",
      "Time: 1.4197463989257812\n",
      "| epoch   2 |   150/  211 batches | accuracy    0.975\n",
      "Time: 1.4142138957977295\n",
      "| epoch   2 |   200/  211 batches | accuracy    0.976\n",
      "Time: 1.33213210105896\n",
      "-----------------------------------------------------------\n",
      "| End of epoch   2 | time:  6.60s | train loss  0.08 | train acc    0.976 | eval loss  0.08 | eval acc    0.977\n",
      "-----------------------------------------------------------\n",
      "| epoch   3 |    50/  211 batches | accuracy    0.976\n",
      "Time: 1.520244836807251\n",
      "| epoch   3 |   100/  211 batches | accuracy    0.980\n",
      "Time: 1.5275778770446777\n",
      "| epoch   3 |   150/  211 batches | accuracy    0.978\n",
      "Time: 1.5035674571990967\n",
      "| epoch   3 |   200/  211 batches | accuracy    0.979\n",
      "Time: 1.3643176555633545\n",
      "-----------------------------------------------------------\n",
      "| End of epoch   3 | time:  6.82s | train loss  0.07 | train acc    0.982 | eval loss  0.08 | eval acc    0.978\n",
      "-----------------------------------------------------------\n",
      "| epoch   4 |    50/  211 batches | accuracy    0.979\n",
      "Time: 1.5920541286468506\n",
      "| epoch   4 |   100/  211 batches | accuracy    0.981\n",
      "Time: 1.450439691543579\n",
      "| epoch   4 |   150/  211 batches | accuracy    0.981\n",
      "Time: 1.5013396739959717\n",
      "| epoch   4 |   200/  211 batches | accuracy    0.981\n",
      "Time: 1.3643054962158203\n",
      "-----------------------------------------------------------\n",
      "| End of epoch   4 | time:  6.81s | train loss  0.06 | train acc    0.979 | eval loss  0.07 | eval acc    0.979\n",
      "-----------------------------------------------------------\n",
      "| epoch   5 |    50/  211 batches | accuracy    0.984\n",
      "Time: 1.55814528465271\n",
      "| epoch   5 |   100/  211 batches | accuracy    0.982\n",
      "Time: 1.5091614723205566\n",
      "| epoch   5 |   150/  211 batches | accuracy    0.983\n",
      "Time: 1.542729377746582\n",
      "| epoch   5 |   200/  211 batches | accuracy    0.983\n",
      "Time: 1.4239442348480225\n",
      "-----------------------------------------------------------\n",
      "| End of epoch   5 | time:  6.93s | train loss  0.05 | train acc    0.985 | eval loss  0.07 | eval acc    0.980\n",
      "-----------------------------------------------------------\n",
      "| epoch   6 |    50/  211 batches | accuracy    0.983\n",
      "Time: 1.605452060699463\n",
      "| epoch   6 |   100/  211 batches | accuracy    0.985\n",
      "Time: 1.5164034366607666\n",
      "| epoch   6 |   150/  211 batches | accuracy    0.985\n",
      "Time: 1.5246162414550781\n",
      "| epoch   6 |   200/  211 batches | accuracy    0.985\n",
      "Time: 1.4143290519714355\n",
      "-----------------------------------------------------------\n",
      "| End of epoch   6 | time:  6.92s | train loss  0.05 | train acc    0.982 | eval loss  0.07 | eval acc    0.979\n",
      "-----------------------------------------------------------\n",
      "| epoch   7 |    50/  211 batches | accuracy    0.985\n",
      "Time: 1.5047552585601807\n",
      "| epoch   7 |   100/  211 batches | accuracy    0.987\n",
      "Time: 1.5005238056182861\n",
      "| epoch   7 |   150/  211 batches | accuracy    0.986\n",
      "Time: 1.523580551147461\n",
      "| epoch   7 |   200/  211 batches | accuracy    0.986\n",
      "Time: 1.3044219017028809\n",
      "-----------------------------------------------------------\n",
      "| End of epoch   7 | time:  6.68s | train loss  0.04 | train acc    0.989 | eval loss  0.05 | eval acc    0.983\n",
      "-----------------------------------------------------------\n",
      "| epoch   8 |    50/  211 batches | accuracy    0.988\n",
      "Time: 1.588019847869873\n",
      "| epoch   8 |   100/  211 batches | accuracy    0.987\n",
      "Time: 1.4809658527374268\n",
      "| epoch   8 |   150/  211 batches | accuracy    0.986\n",
      "Time: 1.588611364364624\n",
      "| epoch   8 |   200/  211 batches | accuracy    0.987\n",
      "Time: 1.3464925289154053\n",
      "-----------------------------------------------------------\n",
      "| End of epoch   8 | time:  6.86s | train loss  0.04 | train acc    0.984 | eval loss  0.07 | eval acc    0.981\n",
      "-----------------------------------------------------------\n",
      "| epoch   9 |    50/  211 batches | accuracy    0.988\n",
      "Time: 1.5551278591156006\n",
      "| epoch   9 |   100/  211 batches | accuracy    0.986\n",
      "Time: 1.5062737464904785\n",
      "| epoch   9 |   150/  211 batches | accuracy    0.987\n",
      "Time: 1.5691194534301758\n",
      "| epoch   9 |   200/  211 batches | accuracy    0.986\n",
      "Time: 1.425530195236206\n",
      "-----------------------------------------------------------\n",
      "| End of epoch   9 | time:  6.93s | train loss  0.04 | train acc    0.988 | eval loss  0.06 | eval acc    0.985\n",
      "-----------------------------------------------------------\n"
     ]
    }
   ],
   "source": [
    "num_classes = len(train_data.dataset.classes)\n",
    "device = torch.device(\"cuda\" if torch.cuda.is_available() else \"cpu\")\n",
    "print(device)\n",
    "print(f\"Num classes: {num_classes}\")\n",
    "\n",
    "lenet_model = LeNetClassifier(num_classes)\n",
    "lenet_model.to(device)\n",
    "\n",
    "criterion = nn.CrossEntropyLoss()\n",
    "optimizer = optim.Adam(lenet_model.parameters())\n",
    "\n",
    "num_epochs = 10\n",
    "save_model = \"./model\"\n",
    "if not os.path.exists(save_model):\n",
    "    os.makedirs(save_model)\n",
    "\n",
    "train_accs = []\n",
    "train_losses = []\n",
    "eval_accs = []\n",
    "eval_losses = []\n",
    "best_loss_eval = 100\n",
    "\n",
    "for epoch in range(num_epochs):\n",
    "    epoch_start_time = time.time()\n",
    "\n",
    "    train_acc, train_loss = train(lenet_model, optimizer, criterion, device, epoch)\n",
    "    train_accs.append(train_acc)\n",
    "    train_losses.append(train_loss)\n",
    "\n",
    "    eval_acc, eval_loss = evaluate(lenet_model, criterion, valid_dataloader)\n",
    "    eval_accs.append(eval_acc)\n",
    "    eval_losses.append(eval_loss)\n",
    "\n",
    "    if eval_loss < best_loss_eval:\n",
    "        best_loss_eval = eval_loss\n",
    "        torch.save(lenet_model.state_dict(), save_model + \"/lenet_model.pt\")\n",
    "\n",
    "    print(\"-\" * 59)\n",
    "    print(\n",
    "        \"| End of epoch {:3d} | time: {:5.2f}s | train loss {:5.2f} | train acc {:8.3f} | eval loss {:5.2f} | eval acc {:8.3f}\".format(\n",
    "            epoch,\n",
    "            time.time() - epoch_start_time,\n",
    "            train_loss,\n",
    "            train_acc,\n",
    "            eval_loss,\n",
    "            eval_acc,\n",
    "        )\n",
    "    )\n",
    "    print(\"-\" * 59)\n",
    "\n",
    "    lenet_model.load_state_dict(torch.load(save_model + \"/lenet_model.pt\"))\n",
    "    lenet_model.eval()"
   ]
  },
  {
   "cell_type": "code",
   "execution_count": null,
   "id": "2a0f61b2",
   "metadata": {},
   "outputs": [
    {
     "data": {
      "image/png": "[encoded data removed]",
      "text/plain": [
       "<Figure size 1200x500 with 2 Axes>"
      ]
     },
     "metadata": {},
     "output_type": "display_data"
    }
   ],
   "source": [
    "# visualize the results\n",
    "fig, ax = plt.subplots(1, 2, figsize=(12, 5))\n",
    "ax[0].plot(train_losses, color=\"green\")\n",
    "ax[0].set(xlabel=\"Epoch\", ylabel=\"Loss\")\n",
    "ax[0].set_title(\"Loss\")\n",
    "ax[0].plot(eval_losses, color=\"orange\")\n",
    "\n",
    "ax[1].plot(train_accs, color=\"green\")\n",
    "ax[1].set(xlabel=\"Epoch\", ylabel=\"Accuracy\")\n",
    "ax[1].set_title(\"Accuracy\")\n",
    "ax[1].plot(eval_accs, color=\"orange\")\n",
    "plt.legend([\"Train\", \"Eval\"])\n",
    "plt.show()"
   ]
  },
  {
   "cell_type": "markdown",
   "id": "96fbabc5",
   "metadata": {},
   "source": [
    "### Evaluate on test set\n"
   ]
  },
  {
   "cell_type": "code",
   "execution_count": 33,
   "id": "ef5a6db1",
   "metadata": {},
   "outputs": [
    {
     "name": "stdout",
     "output_type": "stream",
     "text": [
      "Test accuracy: 0.9877\n",
      "Test loss: 0.04028264814915019\n"
     ]
    }
   ],
   "source": [
    "test_data.transform = test_trainsforms\n",
    "test_dataloader = data.DataLoader(test_data, batch_size=BATCH_SIZE)\n",
    "test_acc, test_loss = evaluate(lenet_model, criterion, test_dataloader)\n",
    "print(f\"Test accuracy: {test_acc}\")\n",
    "print(f\"Test loss: {test_loss}\")"
   ]
  },
  {
   "cell_type": "code",
   "execution_count": null,
   "id": "1e0a157f",
   "metadata": {},
   "outputs": [],
   "source": []
  }
 ],
 "metadata": {
  "kernelspec": {
   "display_name": "ml-env",
   "language": "python",
   "name": "python3"
  },
  "language_info": {
   "codemirror_mode": {
    "name": "ipython",
    "version": 3
   },
   "file_extension": ".py",
   "mimetype": "text/x-python",
   "name": "python",
   "nbconvert_exporter": "python",
   "pygments_lexer": "ipython3",
   "version": "3.12.4"
  }
 },
 "nbformat": 4,
 "nbformat_minor": 5
}
